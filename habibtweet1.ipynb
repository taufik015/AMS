{
  "cells": [
    {
      "cell_type": "markdown",
      "metadata": {
        "id": "view-in-github",
        "colab_type": "text"
      },
      "source": [
        "<a href=\"https://colab.research.google.com/github/taufik015/AMS/blob/main/habibtweet1.ipynb\" target=\"_parent\"><img src=\"https://colab.research.google.com/assets/colab-badge.svg\" alt=\"Open In Colab\"/></a>"
      ]
    },
    {
      "cell_type": "markdown",
      "metadata": {
        "id": "R2lskwDmEpaC"
      },
      "source": [
        "# load libraries"
      ]
    },
    {
      "cell_type": "code",
      "execution_count": 3,
      "metadata": {
        "id": "aW_pU6r_EpaC"
      },
      "outputs": [],
      "source": [
        "import pandas as pd\n",
        "import time\n",
        "import tweepy\n",
        "import numpy as np"
      ]
    },
    {
      "cell_type": "code",
      "execution_count": 4,
      "metadata": {
        "id": "DiyMolFGEpaH"
      },
      "outputs": [],
      "source": [
        "def twitter_config():\n",
        "    \"\"\"\n",
        "    Fungsi utilitas untuk mengkonfigurasi konsumsi file API Twitter dengan␣\n",
        "    ,!kunci yang disediakan.\n",
        "    \"\"\"\n",
        "    # Otentikasi dan akses menggunakan kunci:\n",
        "    auth = tweepy.OAuthHandler(\"XGGIQ7T9WRg3JpBJOrX7NfkbE\",\n",
        "    \"iQSaKgVIekk7kq9P7f96fkPqcN5tO8xGBfpFQac9pd6aav2nho\")\n",
        "    auth.set_access_token(\"1575101006647795714-8U17W8fWcPeKn1idEC5YcsnS03IvjL\",\n",
        "    \"k00NRCbQnI8SOMDUre1Axi4cFq48N1oPQtaW09Gc9naGR\")\n",
        "    # Kembalikan akses ke API:\n",
        "    api = tweepy.API(auth)\n",
        "    try:\n",
        "        api.verify_credentials()\n",
        "        print(\"Authentication OK\")\n",
        "    except:\n",
        "        print(\"Error during authentication\")\n",
        "    return api"
      ]
    },
    {
      "cell_type": "code",
      "execution_count": 5,
      "metadata": {
        "colab": {
          "base_uri": "https://localhost:8080/"
        },
        "id": "7DZHFz-QEpaH",
        "outputId": "ccda7cd5-4f3a-45ab-f766-5f40ed993e23"
      },
      "outputs": [
        {
          "output_type": "stream",
          "name": "stdout",
          "text": [
            "Authentication OK\n"
          ]
        }
      ],
      "source": [
        "# buat extractor object\n",
        "extractor = twitter_config()"
      ]
    },
    {
      "cell_type": "markdown",
      "metadata": {
        "id": "vWqFnNEaEpaI"
      },
      "source": [
        "# ambil tweets dari username"
      ]
    },
    {
      "cell_type": "code",
      "execution_count": 28,
      "metadata": {
        "colab": {
          "base_uri": "https://localhost:8080/"
        },
        "id": "QtxWlItAEpaJ",
        "outputId": "f36be4d6-6ee6-4c53-9c15-9a0d94bffe36"
      },
      "outputs": [
        {
          "output_type": "stream",
          "name": "stdout",
          "text": [
            "Tweets terambil: 200.\n",
            "\n",
            "5 tweet teratas:\n",
            "\n",
            "RT @WarungSejarahRI: Ateisme dewasa ini; potret kegagalan Manusia modern\n",
            "\n",
            "Oleh: Ignace Lepp\n",
            "\n",
            "Tahun 1985\n",
            "190 Halaman\n",
            "\n",
            "Harga 55.000\n",
            "Minat?…\n",
            "\n",
            "Iya nggak? https://t.co/QvT8ccmxen\n",
            "\n",
            "Selamat datang, Senin. Silakan. || 📸 @tiyanglestrek https://t.co/ZHaHWugHP0\n",
            "\n",
            "Eh, yg 2 tahun lalu katanya sedih krn gak bisa maulidan bareng krn pandemi. Sekarang, pas udah bisa, maulidan nggak?\n",
            "\n",
            "@jek___ ((BIP)) Badan Ideologi Pancasila?\n",
            "\n",
            "@tiyanglestrek Siap.\n",
            "\n",
            "Minggu sore, ngopi di sungai yg airnya hitam di Palangkaraya. https://t.co/AaPIMc1gyX\n",
            "\n",
            "@tiyanglestrek Dua ini. Yg digambar yg saya aja ya. https://t.co/yhJKtOnq9o\n",
            "\n",
            "@tiyanglestrek Yaudah, saya order.\n",
            "\n",
            "Minggu ngapain?\n",
            "\n",
            "Animasi Terbaru &gt;&gt; https://t.co/1C6QXexXWx. https://t.co/5TmGqX4cYH\n",
            "\n",
            "Saya Live Sekarang dari Palangkaraya &gt;&gt; https://t.co/yJssaaRYjr.\n",
            "\n",
            "Hari ini Maulid Nabi. Pokok apapun yg terjadi, gimana perasaan kita harus tetap dijaga agar tak ada suatu kesedihan… https://t.co/DJiL632xiE\n",
            "\n",
            "Sudah ngopi? https://t.co/R523T4CYV7\n",
            "\n",
            "Maulid Nabi Muhammad Saw.\n",
            "\n",
            "RT @WarungSejarahRI: Paket buku\n",
            "\n",
            "1. Syekh Siti Jenar; Makna \"Kematian\"\n",
            "Oleh; Achmad Chodjim.\n",
            "\n",
            "2. Syekh Siti Jenar; Pergumulan Islam-Jawa. O…\n",
            "\n",
            "RT @WarungSejarahRI: Paket buku Tafsir Qur'an\n",
            "\n",
            "Tafsir Adz-dzikra\n",
            "Tafsir Yusuf Ali\n",
            "Tafsir Fi Zhilalil Quran\n",
            "\n",
            "22 buku.\n",
            "Hardcover\n",
            "Berat 20 kg…\n",
            "\n",
            "RT @WarungSejarahRI: Buku Lawas&gt; Cerita Dari Digul. \n",
            "\n",
            "Penyunting Pramoedya Ananta Toer. \n",
            "\n",
            "Tahun 2004. \n",
            "314 halaman. \n",
            "\n",
            "Harga 200.000.\n",
            "Minat?…\n",
            "\n",
            "RT @Husen_Jafar: Kalau kamu, apa pesannya jika bisa chat Nabi Muhammad? https://t.co/fQdIn54K3Y\n",
            "\n",
            "Kalau kamu, apa pesannya jika bisa chat Nabi Muhammad? https://t.co/fQdIn54K3Y\n",
            "\n",
            "Video Baru Tentang Maulid Nabi: “Kenapa Nabi Muhammad Manusia Biasa?” &gt;&gt; https://t.co/W9ehNNuk18. https://t.co/0OOyDySFwh\n",
            "\n",
            "Podcast Terbaru: “KDRT &amp; Selingkuh” &gt;&gt; https://t.co/OZxLN4GOfY. https://t.co/CjMcAQ03NT\n",
            "\n",
            "RT @Husen_Jafar: Jodoh 404 Not Found! https://t.co/ts6kAzlE0e\n",
            "\n",
            "Nih versi gabungannya. https://t.co/cytXWOSNaB\n",
            "\n",
            "Jodoh 404 Not Found! https://t.co/ts6kAzlE0e\n",
            "\n",
            "Dulu menulis, sekarang menulis, dan selamanya menulis. Ini tulisan saya di Jawa Pos hari ini bertema Maulid Nabi Mu… https://t.co/VK8WaFxlL6\n",
            "\n",
            "RT @Husen_Jafar: Saya membuat postingan ini sembari bershalawat, dan mau mengajak kamu, iya kamu, yang melihat postingan ini untuk juga ber…\n",
            "\n",
            "Apa tema khutbah Jum’at di masjidmu tadi? Ini salah satu tema yg penting: “Menjaga Lingkungan Bagian dari Tujuan Sy… https://t.co/H1RUueYNUz\n",
            "\n",
            "Nabi Adam metik satu buah, jatuh dari surga. Eh kita nebangin pohon secara zalim ingin masuk surga? Mimpi! #DemiBumi\n",
            "\n",
            "Saya membuat postingan ini sembari bershalawat, dan mau mengajak kamu, iya kamu, yang melihat postingan ini untuk j… https://t.co/E2gaIrEoKf\n",
            "\n",
            "Donasi kalian sudah mulai dan akan terus disalurkan. Terima kasih. 🙏 || Donasi &gt;&gt; https://t.co/DxkeERZPgl.… https://t.co/y1em6XCtXS\n",
            "\n",
            "RT @WarungSejarahRI: Berebut Jiwa Bangsa.\n",
            "\n",
            "Oleh; Franz Magnis-Suseno.\n",
            "\n",
            "Tahun 2007.\n",
            " 392 Halaman\n",
            "\n",
            "Harga 75.000. \n",
            "Minat?  \n",
            "\n",
            "Cara Order silaka…\n",
            "\n",
            "Dari @JuventusFC utk korban di Stadion Kanjuruhan, Malang. https://t.co/nLUToIHAIo\n",
            "\n",
            "@Puthutea Bagus atau tidak itu bukankah relatif, Kisanak?\n",
            "\n",
            "Ngobrolin Kristen Ortodox buat @Noice_ID bareng salah satu tokohnya: Romo Boris. https://t.co/Vzrqc1cJbM\n",
            "\n",
            "RT @Ayang_Utriza: Bagi yang tidak sempat mengikuti secara langsung diskusi Tionghoa Batavia ini, dan tertarik mau tahu, silakan simak di ta…\n",
            "\n",
            "Di luar hujan. Di dalam rumah baca Maulid. Di luar rahmat, di dalam syafaat.\n",
            "\n",
            "Tiap pagi ngirim kabar ghibah. Sungguh suatu privilege utk masuk neraka. 🤣 https://t.co/IJQO01CoHu\n",
            "\n",
            "Kerja keras hari ini dimulai dgn nahan gak melorot di jok motor ojek online. Jok motor yg polos &amp; licin ini sungguh… https://t.co/NMI4WMBzy9\n",
            "\n",
            "Firman-Nya, “…Barangsiapa memelihara kehidupan seorang manusia, maka seakan ia telah memelihara kehidupan semua man… https://t.co/yzp8GpxtTt\n",
            "\n",
            "RT @kumparan: Sejumlah pemain dan official Arema FC mendatangi Stadion Kanjuruhan di Malang, Senin (3/10). Kedatangan tersebut sebagai bent…\n",
            "\n",
            "RT @WarungSejarahRI: Sari Sejarah Filsafat Barat\n",
            "\n",
            "Oleh: Dr. Harun Hadiwijono\n",
            "\n",
            "118 Halaman\n",
            "Tahun 1989\n",
            "\n",
            "Harga 55.000\n",
            "Minat?  \n",
            "\n",
            "Cara Order sil…\n",
            "\n",
            "Hi @JuventusFC. Why? https://t.co/znqDym7qby\n",
            "\n",
            "@GxMxL @juventusfc Saya tak ngecek krn tak tahu jg apa aja akun Juvetus. Kalau memang benar belum sampaikan ungkapa… https://t.co/Gnr5AEo9XK\n",
            "\n",
            "RT @PostinusGul: Bapa Paus Fransiskus turut berduka cita dan mendoakan para korban tragedi Kanjuruhan, Malang. \n",
            "\n",
            "RIP untuk korban meninggal…\n",
            "\n",
            "Mari fokus “menyalakan cahaya” di tengah Tragedi Kanjuruhan. Sekecil apapun, semampu kita. Buat kalian yg bingung m… https://t.co/fYPiOnm48E\n",
            "\n",
            "RT @WarungSejarahRI: Buku Langka&gt; \n",
            "\n",
            "-Tjelaka Negara Jang Tidak Bertuhan.\n",
            "\n",
            "-Hakkul Jakin Tuhan Ada\n",
            "\n",
            "Pidato Bung Karno. \n",
            "\n",
            "Tahun 1965. \n",
            "39 hal…\n",
            "\n",
            "RT @Husen_Jafar: Bismillah! Bersama @GUSDURians Yuk &gt;&gt; https://t.co/DxkeERZPgl. https://t.co/9kZbx7DXIP\n",
            "\n",
            "Bismillah! Bersama @GUSDURians Yuk &gt;&gt; https://t.co/DxkeERZPgl. https://t.co/9kZbx7DXIP\n",
            "\n",
            "Seorang Ibu, bertanya-tanya, kemana anaknya yg semalam pamit nonton bola di stadion? Ia lihat di TV, semua pihak sa… https://t.co/QfuAj7fqf1\n",
            "\n",
            "Seorang Ibu, jelang subuh, menengok kasur anaknya masih kosong. Perasaannya tak enak. Namun ia berpikir, anaknya ke… https://t.co/rGf9cNZm2c\n",
            "\n",
            "RT @WarungSejarahRI: Islam dan Pancasila sebagai Dasar Negara; studi tentang perdebatan dalam konstituante\n",
            "\n",
            "Karya Ahmad Syafii Maarif\n",
            "\n",
            "Tahu…\n",
            "\n",
            "RT @WarungSejarahRI: Islam Fungsional; Revitalisasi &amp; Re aktualisasi nilai-nilai Keislaman\n",
            "\n",
            "Karya Prof. DR. H. Nasaruddin Umar, MA. \n",
            "\n",
            "Tahun…\n",
            "\n",
            "RT @WarungSejarahRI: Dunia Sophie; sebuah novel Filsafat\n",
            "\n",
            "Karya Jostein Gaarder\n",
            "\n",
            "Tahun 2018\n",
            "798 halaman\n",
            "\n",
            "Harga 100.000\n",
            "Minat? \n",
            "\n",
            "Cara Order…\n",
            "\n",
            "Tragedi Kemanusiaan. Ya Rabb.\n",
            "\n",
            "RT @dovityindah: akhirnya dapat juga bukunya Bib @Husen_Jafar , setelah didaerahku ndak ada yang jual, isi bukunya 10/10!!! Judulnya \"tuhan…\n",
            "\n",
            "RT @Husen_Jafar: Jum’at. Waktu Indonesia Komik (WIK). https://t.co/VBkwkRrkeG\n",
            "\n",
            "RT @KatalisBooks: #BukuLaris | #SeniMerayuTuhan| @Husen_Jafar | @PenerbitMizan | Rp69.000 | Pesan: https://t.co/cXpYhgOLcS\n",
            "\n",
            "Shopee: https:/…\n",
            "\n",
            "RT @KatalisBooks: #BukuLaris | #TuhanAdaDiHatimu | @Husen_Jafar | @NouraPublishing | Rp69.000 | Pesan: https://t.co/cXpYhgOLcS\n",
            "\n",
            "Shopee: htt…\n",
            "\n",
            "Jum’at. Waktu Indonesia Komik (WIK). https://t.co/VBkwkRrkeG\n",
            "\n",
            "RT @RaVi_Fathu22: Islam mengajarkan tentang cinta sebagai wujud rahmat-Nya kepada siapa saja tanpa pilih-pilih, kalau hanya cinta kepada ya…\n",
            "\n",
            "@Adriandhy Turut berduka. 🙏\n",
            "\n",
            "RT @Adibmuhas____: Selain jadi penceramah ternyata beliau masuk skuad setan merah juga @Husen_Jafar\n",
            "\n",
            "RT @sayid__machmoed: لاعبة مسلمة سقط حجابها فأحاطوا بها لیسترونها رغم انهن غیر مسلمات، استحقوا علیه تصفیق الحضور قمة الأخلاق\n",
            "\n",
            "Seorang pemai…\n",
            "\n",
            "Ila ruh Syekh Yusuf Qardhawi, Al-Fatehah.\n",
            "\n",
            "Memasuki Bulan Kelahiran Nabi Muhammad Saw. Kalau bukan karena Beliau Saw, tak diciptakan segala sesuatu. Maka, tak… https://t.co/4q8V3DYgQE\n",
            "\n",
            "Senin sudah selesai. Berapapun rezeki yg kita dapatkan hari ini, ia layak utk dirayakan dgn Ratib Haddad.\n",
            "\n",
            "@gayengco Oh iyah. 🤣\n",
            "\n",
            "Ada yg ngirimin video ini. Yaudah aku share sbg pengingat yg baik buat kita. https://t.co/jrYa2FBp2w\n",
            "\n",
            "RT @edi_akhiles: Klo pengin punya anak, lazimkan doa ini:\n",
            "\n",
            "ربنا أتنا من لدنك ذرية طيبة إنك سميع الدعاء\n",
            "\n",
            "@harismz @mnadielmadani7 @msholehzain Versi di Youtubenya yg jg dishare oleh akun itu sebenarnya sudah menjelaskan.… https://t.co/iRmVgY86bP\n",
            "\n",
            "Muhammadiyah yg ngerokok itu yg Malikiyah (ikut Pak Malik Fadjar). Klu yg Syafi’iyah (ikut Buya Syafii) gak ngeroko… https://t.co/4TB0IyoYO4\n",
            "\n",
            "@nnurulamalia Woi!\n",
            "\n",
            "@anwarku_r Heh! Apa kaitannya? 🤣\n",
            "\n",
            "@picoez Loh tampaknya aja, bukan nyatanya?\n",
            "\n",
            "Sudah Habib? https://t.co/t6nlbe03i6\n",
            "\n",
            "RT @WarungSejarahRI: Unholy War; Teror atas nama Islam\n",
            "\n",
            "Karya John L. Esposito\n",
            "\n",
            "Tahun 2003\n",
            "223 halaman\n",
            "\n",
            "Harga 95.000.\n",
            "Minat?\n",
            "\n",
            "Order:\n",
            "✓DM or…\n",
            "\n",
            "RT @Husen_Jafar: Ada yg halal, kok malah ke yg haram? https://t.co/H5Cs2Q4GyH\n",
            "\n",
            "Ada yg halal, kok malah ke yg haram? https://t.co/H5Cs2Q4GyH\n",
            "\n",
            "RT @WarungSejarahRI: Tahun 1912. Tangkapan yang sangat menarik akhir bulan ini!!! https://t.co/EnBwhSoNIs\n",
            "\n",
            "RT @ydp_prabowo: https://t.co/S1afaR0XUO\n",
            "\n",
            "Renungan malam dari Habib @Husen_Jafar 🙏🏼✨\n",
            "\n",
            "Serambi dari Serambi Makkah. https://t.co/r5NN4HRoTw\n",
            "\n",
            "Jelang dini hari, bersama Yai @LukmanSaifuddin, Kang @OFathurahman, dan guru lainnya bertakziyah &amp; menunggu kedatan… https://t.co/dXDigMili7\n",
            "\n",
            "@nurhasannn Lahul-Fatehah. Turut berduka, Gus. Husnul khotimah insyaAllah.\n",
            "\n",
            "Selamat Makan! https://t.co/rdq7t8213g\n",
            "\n",
            "Roma masih kalah ya, Mas @Puthutea? Soalnya gak sempet nonton ini.\n",
            "\n",
            "Juve kalah, untung Indonesia menang.\n",
            "\n",
            "Allegri sungguh tersesat.\n",
            "\n",
            "Juve nih butuh dirukyah sih. Serius! 🤣 https://t.co/FzCNfVSjIM\n",
            "\n",
            "RT @WarungSejarahRI: Paket buku Karya Prof. Dr. Azyumardi Azra. M. A. \n",
            "\n",
            "1. Jihad, Kholafah, dan Terorisme\n",
            "2. Renaisans Islam\n",
            "3. Masyarakat…\n",
            "\n",
            "Juve lawan tim paling bawah klasemen. Apa iya imbang?!\n",
            "\n",
            "@Puthutea Heh!\n",
            "\n",
            "@Puthutea @comika_id Gak konsisten, kyk mainnya Roma aja.\n",
            "\n",
            "@irfan_nuruddin @comika_id Belum saya tayangin vlognya, Gus. 😁\n",
            "\n",
            "Semalam, utk pertama kalinya, Stand Up Comedy. Saya sih menyebutnya Stand Up Religi. Seru. Ini bagian dari rencana… https://t.co/VWE18nARpi\n",
            "\n",
            "Beli. Baca. Biar pikiran, perkataan, dan sikapmu berbudaya. https://t.co/9GIbOhGFXm\n",
            "\n",
            "RT @WarungSejarahRI: Paket borongan Buku Karya Emha Ainun Nadjib (Cak Nun).\n",
            "\n",
            "14 Buku/judul\n",
            "Tahun 1990-2018\n",
            "Berat 3 kg\n",
            "\n",
            "Harga 950.000\n",
            "Minat?…\n",
            "\n",
            "Terakhir ngobrol panjang dgn alm. Pak Azyumardi Azra itu sebelum pandemi, saat saya mewawancarai Beliau utk tayanga… https://t.co/XqhqfavXPI\n",
            "\n",
            "🤣 Bahas: Kok bisa ya Salafi lucu? https://t.co/yClNbjxgyT\n",
            "\n",
            "RT @salafigarislucu: King @Husen_Jafar ketemu ratu elizabet bahas apa ya? https://t.co/cxhJTcu48a\n",
            "\n"
          ]
        }
      ],
      "source": [
        "\n",
        "tweets = extractor.user_timeline(screen_name=\"Husen_Jafar\", count=1000)\n",
        "print(\"Tweets terambil: {}.\\n\".format(len(tweets)))\n",
        "\n",
        "\n",
        "print(\"5 tweet teratas:\\n\")\n",
        "for tweet in tweets[:100]:\n",
        "    print(tweet.text)\n",
        "    print()"
      ]
    },
    {
      "cell_type": "markdown",
      "metadata": {
        "id": "j2TacXTNEpaJ"
      },
      "source": [
        "# memasukkan ke dataframe pandas"
      ]
    },
    {
      "cell_type": "code",
      "execution_count": 29,
      "metadata": {
        "colab": {
          "base_uri": "https://localhost:8080/",
          "height": 424
        },
        "id": "sqxSAFtREpaJ",
        "outputId": "5afdc8ad-9ebb-4caa-c63c-55f15d28c8f8"
      },
      "outputs": [
        {
          "output_type": "display_data",
          "data": {
            "text/plain": [
              "                                               Tweets\n",
              "0   RT @WarungSejarahRI: Ateisme dewasa ini; potre...\n",
              "1                  Iya nggak? https://t.co/QvT8ccmxen\n",
              "2   Selamat datang, Senin. Silakan. || 📸 @tiyangle...\n",
              "3   Eh, yg 2 tahun lalu katanya sedih krn gak bisa...\n",
              "4           @jek___ ((BIP)) Badan Ideologi Pancasila?\n",
              "..                                                ...\n",
              "95  Beli. Baca. Biar pikiran, perkataan, dan sikap...\n",
              "96  RT @WarungSejarahRI: Paket borongan Buku Karya...\n",
              "97  Terakhir ngobrol panjang dgn alm. Pak Azyumard...\n",
              "98  🤣 Bahas: Kok bisa ya Salafi lucu? https://t.co...\n",
              "99  RT @salafigarislucu: King @Husen_Jafar ketemu ...\n",
              "\n",
              "[100 rows x 1 columns]"
            ],
            "text/html": [
              "\n",
              "  <div id=\"df-a8b40cef-a616-47ef-8e57-7a7925b697ad\">\n",
              "    <div class=\"colab-df-container\">\n",
              "      <div>\n",
              "<style scoped>\n",
              "    .dataframe tbody tr th:only-of-type {\n",
              "        vertical-align: middle;\n",
              "    }\n",
              "\n",
              "    .dataframe tbody tr th {\n",
              "        vertical-align: top;\n",
              "    }\n",
              "\n",
              "    .dataframe thead th {\n",
              "        text-align: right;\n",
              "    }\n",
              "</style>\n",
              "<table border=\"1\" class=\"dataframe\">\n",
              "  <thead>\n",
              "    <tr style=\"text-align: right;\">\n",
              "      <th></th>\n",
              "      <th>Tweets</th>\n",
              "    </tr>\n",
              "  </thead>\n",
              "  <tbody>\n",
              "    <tr>\n",
              "      <th>0</th>\n",
              "      <td>RT @WarungSejarahRI: Ateisme dewasa ini; potre...</td>\n",
              "    </tr>\n",
              "    <tr>\n",
              "      <th>1</th>\n",
              "      <td>Iya nggak? https://t.co/QvT8ccmxen</td>\n",
              "    </tr>\n",
              "    <tr>\n",
              "      <th>2</th>\n",
              "      <td>Selamat datang, Senin. Silakan. || 📸 @tiyangle...</td>\n",
              "    </tr>\n",
              "    <tr>\n",
              "      <th>3</th>\n",
              "      <td>Eh, yg 2 tahun lalu katanya sedih krn gak bisa...</td>\n",
              "    </tr>\n",
              "    <tr>\n",
              "      <th>4</th>\n",
              "      <td>@jek___ ((BIP)) Badan Ideologi Pancasila?</td>\n",
              "    </tr>\n",
              "    <tr>\n",
              "      <th>...</th>\n",
              "      <td>...</td>\n",
              "    </tr>\n",
              "    <tr>\n",
              "      <th>95</th>\n",
              "      <td>Beli. Baca. Biar pikiran, perkataan, dan sikap...</td>\n",
              "    </tr>\n",
              "    <tr>\n",
              "      <th>96</th>\n",
              "      <td>RT @WarungSejarahRI: Paket borongan Buku Karya...</td>\n",
              "    </tr>\n",
              "    <tr>\n",
              "      <th>97</th>\n",
              "      <td>Terakhir ngobrol panjang dgn alm. Pak Azyumard...</td>\n",
              "    </tr>\n",
              "    <tr>\n",
              "      <th>98</th>\n",
              "      <td>🤣 Bahas: Kok bisa ya Salafi lucu? https://t.co...</td>\n",
              "    </tr>\n",
              "    <tr>\n",
              "      <th>99</th>\n",
              "      <td>RT @salafigarislucu: King @Husen_Jafar ketemu ...</td>\n",
              "    </tr>\n",
              "  </tbody>\n",
              "</table>\n",
              "<p>100 rows × 1 columns</p>\n",
              "</div>\n",
              "      <button class=\"colab-df-convert\" onclick=\"convertToInteractive('df-a8b40cef-a616-47ef-8e57-7a7925b697ad')\"\n",
              "              title=\"Convert this dataframe to an interactive table.\"\n",
              "              style=\"display:none;\">\n",
              "        \n",
              "  <svg xmlns=\"http://www.w3.org/2000/svg\" height=\"24px\"viewBox=\"0 0 24 24\"\n",
              "       width=\"24px\">\n",
              "    <path d=\"M0 0h24v24H0V0z\" fill=\"none\"/>\n",
              "    <path d=\"M18.56 5.44l.94 2.06.94-2.06 2.06-.94-2.06-.94-.94-2.06-.94 2.06-2.06.94zm-11 1L8.5 8.5l.94-2.06 2.06-.94-2.06-.94L8.5 2.5l-.94 2.06-2.06.94zm10 10l.94 2.06.94-2.06 2.06-.94-2.06-.94-.94-2.06-.94 2.06-2.06.94z\"/><path d=\"M17.41 7.96l-1.37-1.37c-.4-.4-.92-.59-1.43-.59-.52 0-1.04.2-1.43.59L10.3 9.45l-7.72 7.72c-.78.78-.78 2.05 0 2.83L4 21.41c.39.39.9.59 1.41.59.51 0 1.02-.2 1.41-.59l7.78-7.78 2.81-2.81c.8-.78.8-2.07 0-2.86zM5.41 20L4 18.59l7.72-7.72 1.47 1.35L5.41 20z\"/>\n",
              "  </svg>\n",
              "      </button>\n",
              "      \n",
              "  <style>\n",
              "    .colab-df-container {\n",
              "      display:flex;\n",
              "      flex-wrap:wrap;\n",
              "      gap: 12px;\n",
              "    }\n",
              "\n",
              "    .colab-df-convert {\n",
              "      background-color: #E8F0FE;\n",
              "      border: none;\n",
              "      border-radius: 50%;\n",
              "      cursor: pointer;\n",
              "      display: none;\n",
              "      fill: #1967D2;\n",
              "      height: 32px;\n",
              "      padding: 0 0 0 0;\n",
              "      width: 32px;\n",
              "    }\n",
              "\n",
              "    .colab-df-convert:hover {\n",
              "      background-color: #E2EBFA;\n",
              "      box-shadow: 0px 1px 2px rgba(60, 64, 67, 0.3), 0px 1px 3px 1px rgba(60, 64, 67, 0.15);\n",
              "      fill: #174EA6;\n",
              "    }\n",
              "\n",
              "    [theme=dark] .colab-df-convert {\n",
              "      background-color: #3B4455;\n",
              "      fill: #D2E3FC;\n",
              "    }\n",
              "\n",
              "    [theme=dark] .colab-df-convert:hover {\n",
              "      background-color: #434B5C;\n",
              "      box-shadow: 0px 1px 3px 1px rgba(0, 0, 0, 0.15);\n",
              "      filter: drop-shadow(0px 1px 2px rgba(0, 0, 0, 0.3));\n",
              "      fill: #FFFFFF;\n",
              "    }\n",
              "  </style>\n",
              "\n",
              "      <script>\n",
              "        const buttonEl =\n",
              "          document.querySelector('#df-a8b40cef-a616-47ef-8e57-7a7925b697ad button.colab-df-convert');\n",
              "        buttonEl.style.display =\n",
              "          google.colab.kernel.accessAllowed ? 'block' : 'none';\n",
              "\n",
              "        async function convertToInteractive(key) {\n",
              "          const element = document.querySelector('#df-a8b40cef-a616-47ef-8e57-7a7925b697ad');\n",
              "          const dataTable =\n",
              "            await google.colab.kernel.invokeFunction('convertToInteractive',\n",
              "                                                     [key], {});\n",
              "          if (!dataTable) return;\n",
              "\n",
              "          const docLinkHtml = 'Like what you see? Visit the ' +\n",
              "            '<a target=\"_blank\" href=https://colab.research.google.com/notebooks/data_table.ipynb>data table notebook</a>'\n",
              "            + ' to learn more about interactive tables.';\n",
              "          element.innerHTML = '';\n",
              "          dataTable['output_type'] = 'display_data';\n",
              "          await google.colab.output.renderOutput(dataTable, element);\n",
              "          const docLink = document.createElement('div');\n",
              "          docLink.innerHTML = docLinkHtml;\n",
              "          element.appendChild(docLink);\n",
              "        }\n",
              "      </script>\n",
              "    </div>\n",
              "  </div>\n",
              "  "
            ]
          },
          "metadata": {}
        }
      ],
      "source": [
        "# Kita dapat membuat kerangka data sebagai berikut:\n",
        "dataset = pd.DataFrame(data=[tweet.text for tweet in tweets], columns=['Tweets'])\n",
        "\n",
        "# Kami membuat tampilan kerangka data:\n",
        "display(dataset.head(100))"
      ]
    },
    {
      "cell_type": "markdown",
      "metadata": {
        "id": "U7_35boQEpaK"
      },
      "source": [
        "# cek internal tweets"
      ]
    },
    {
      "cell_type": "markdown",
      "metadata": {
        "id": "dvEtEl5wEpaK"
      },
      "source": [
        "Sesuatu yang menarik adalah jumlah metode internal yang dimiliki struktur tweet di Tweepy:"
      ]
    },
    {
      "cell_type": "code",
      "execution_count": 30,
      "metadata": {
        "colab": {
          "base_uri": "https://localhost:8080/"
        },
        "id": "NNbvkCimEpaK",
        "outputId": "2e6bcf95-c139-4486-e81c-fc9982bf243c"
      },
      "outputs": [
        {
          "output_type": "stream",
          "name": "stdout",
          "text": [
            "['__class__', '__delattr__', '__dict__', '__dir__', '__doc__', '__eq__', '__format__', '__ge__', '__getattribute__', '__getstate__', '__gt__', '__hash__', '__init__', '__init_subclass__', '__le__', '__lt__', '__module__', '__ne__', '__new__', '__reduce__', '__reduce_ex__', '__repr__', '__setattr__', '__sizeof__', '__str__', '__subclasshook__', '__weakref__', '_api', '_json', 'author', 'contributors', 'coordinates', 'created_at', 'destroy', 'entities', 'favorite', 'favorite_count', 'favorited', 'geo', 'id', 'id_str', 'in_reply_to_screen_name', 'in_reply_to_status_id', 'in_reply_to_status_id_str', 'in_reply_to_user_id', 'in_reply_to_user_id_str', 'is_quote_status', 'lang', 'parse', 'parse_list', 'place', 'retweet', 'retweet_count', 'retweeted', 'retweeted_status', 'retweets', 'source', 'source_url', 'text', 'truncated', 'user']\n"
          ]
        }
      ],
      "source": [
        "print(dir(tweets[0]))"
      ]
    },
    {
      "cell_type": "markdown",
      "metadata": {
        "id": "DRDh1fJpEpaK"
      },
      "source": [
        "Dari sini menarik bahwa, jika kita ingin mendapatkan data seperti tanggal pembuatan tweet atau perangkat yang membuatnya, kita dapat mengakses informasi ini dengan metode yang muncul di daftar ini. Contohnya adalah sebagai berikut:"
      ]
    },
    {
      "cell_type": "code",
      "execution_count": 31,
      "metadata": {
        "colab": {
          "base_uri": "https://localhost:8080/"
        },
        "id": "fipxLHJaEpaL",
        "outputId": "719107be-94b1-42da-d6fb-574ef7c35ea6"
      },
      "outputs": [
        {
          "output_type": "stream",
          "name": "stdout",
          "text": [
            "1579380961988710400\n",
            "2022-10-10 07:58:59\n",
            "Twitter for iPhone\n",
            "0\n",
            "2\n",
            "None\n",
            "None\n",
            "{'hashtags': [], 'symbols': [], 'user_mentions': [{'screen_name': 'WarungSejarahRI', 'name': 'IG: WarungSejarahRI', 'id': 2362274258, 'id_str': '2362274258', 'indices': [3, 19]}], 'urls': []}\n"
          ]
        }
      ],
      "source": [
        "print(tweets[0].id)\n",
        "print(tweets[0].created_at)\n",
        "print(tweets[0].source)\n",
        "print(tweets[0].favorite_count)\n",
        "print(tweets[0].retweet_count)\n",
        "print(tweets[0].geo)\n",
        "print(tweets[0].coordinates)\n",
        "print(tweets[0].entities)"
      ]
    },
    {
      "cell_type": "markdown",
      "metadata": {
        "id": "VqBzYFNpEpaL"
      },
      "source": [
        "# tambahkan informasi relevan"
      ]
    },
    {
      "cell_type": "markdown",
      "metadata": {
        "id": "N9qrP8k9EpaL"
      },
      "source": [
        "Kami menambahkan informasi yang relevan"
      ]
    },
    {
      "cell_type": "code",
      "execution_count": 32,
      "metadata": {
        "id": "UCPph6aBEpaL"
      },
      "outputs": [],
      "source": [
        "dataset['len'] = np.array([len(tweet.text) for tweet in tweets])\n",
        "dataset['ID']  = np.array([tweet.id for tweet in tweets])\n",
        "dataset['Created'] = np.array([tweet.created_at for tweet in tweets])\n",
        "dataset['Source'] = np.array([tweet.source for tweet in tweets])\n",
        "dataset['Likes']  = np.array([tweet.favorite_count for tweet in tweets])\n",
        "dataset['RTs']    = np.array([tweet.retweet_count for tweet in tweets])"
      ]
    },
    {
      "cell_type": "code",
      "execution_count": 33,
      "metadata": {
        "colab": {
          "base_uri": "https://localhost:8080/",
          "height": 206
        },
        "id": "nUVMGVglEpaL",
        "outputId": "0e22eef4-dd85-47f7-bb60-5ed0b11b500f"
      },
      "outputs": [
        {
          "output_type": "execute_result",
          "data": {
            "text/plain": [
              "                                              Tweets  len  \\\n",
              "0  RT @WarungSejarahRI: Ateisme dewasa ini; potre...  137   \n",
              "1                 Iya nggak? https://t.co/QvT8ccmxen   34   \n",
              "2  Selamat datang, Senin. Silakan. || 📸 @tiyangle...   75   \n",
              "3  Eh, yg 2 tahun lalu katanya sedih krn gak bisa...  116   \n",
              "4          @jek___ ((BIP)) Badan Ideologi Pancasila?   41   \n",
              "\n",
              "                    ID             Created              Source  Likes  RTs  \n",
              "0  1579380961988710400 2022-10-10 07:58:59  Twitter for iPhone      0    2  \n",
              "1  1579380792786325504 2022-10-10 07:58:19  Twitter for iPhone   1914  174  \n",
              "2  1579305790804201472 2022-10-10 03:00:17  Twitter for iPhone    594   11  \n",
              "3  1579065562310721537 2022-10-09 11:05:42  Twitter for iPhone   2066  121  \n",
              "4  1579053358366629888 2022-10-09 10:17:12  Twitter for iPhone     71    0  "
            ],
            "text/html": [
              "\n",
              "  <div id=\"df-ce10fa88-f15c-407d-8896-7943f40d133c\">\n",
              "    <div class=\"colab-df-container\">\n",
              "      <div>\n",
              "<style scoped>\n",
              "    .dataframe tbody tr th:only-of-type {\n",
              "        vertical-align: middle;\n",
              "    }\n",
              "\n",
              "    .dataframe tbody tr th {\n",
              "        vertical-align: top;\n",
              "    }\n",
              "\n",
              "    .dataframe thead th {\n",
              "        text-align: right;\n",
              "    }\n",
              "</style>\n",
              "<table border=\"1\" class=\"dataframe\">\n",
              "  <thead>\n",
              "    <tr style=\"text-align: right;\">\n",
              "      <th></th>\n",
              "      <th>Tweets</th>\n",
              "      <th>len</th>\n",
              "      <th>ID</th>\n",
              "      <th>Created</th>\n",
              "      <th>Source</th>\n",
              "      <th>Likes</th>\n",
              "      <th>RTs</th>\n",
              "    </tr>\n",
              "  </thead>\n",
              "  <tbody>\n",
              "    <tr>\n",
              "      <th>0</th>\n",
              "      <td>RT @WarungSejarahRI: Ateisme dewasa ini; potre...</td>\n",
              "      <td>137</td>\n",
              "      <td>1579380961988710400</td>\n",
              "      <td>2022-10-10 07:58:59</td>\n",
              "      <td>Twitter for iPhone</td>\n",
              "      <td>0</td>\n",
              "      <td>2</td>\n",
              "    </tr>\n",
              "    <tr>\n",
              "      <th>1</th>\n",
              "      <td>Iya nggak? https://t.co/QvT8ccmxen</td>\n",
              "      <td>34</td>\n",
              "      <td>1579380792786325504</td>\n",
              "      <td>2022-10-10 07:58:19</td>\n",
              "      <td>Twitter for iPhone</td>\n",
              "      <td>1914</td>\n",
              "      <td>174</td>\n",
              "    </tr>\n",
              "    <tr>\n",
              "      <th>2</th>\n",
              "      <td>Selamat datang, Senin. Silakan. || 📸 @tiyangle...</td>\n",
              "      <td>75</td>\n",
              "      <td>1579305790804201472</td>\n",
              "      <td>2022-10-10 03:00:17</td>\n",
              "      <td>Twitter for iPhone</td>\n",
              "      <td>594</td>\n",
              "      <td>11</td>\n",
              "    </tr>\n",
              "    <tr>\n",
              "      <th>3</th>\n",
              "      <td>Eh, yg 2 tahun lalu katanya sedih krn gak bisa...</td>\n",
              "      <td>116</td>\n",
              "      <td>1579065562310721537</td>\n",
              "      <td>2022-10-09 11:05:42</td>\n",
              "      <td>Twitter for iPhone</td>\n",
              "      <td>2066</td>\n",
              "      <td>121</td>\n",
              "    </tr>\n",
              "    <tr>\n",
              "      <th>4</th>\n",
              "      <td>@jek___ ((BIP)) Badan Ideologi Pancasila?</td>\n",
              "      <td>41</td>\n",
              "      <td>1579053358366629888</td>\n",
              "      <td>2022-10-09 10:17:12</td>\n",
              "      <td>Twitter for iPhone</td>\n",
              "      <td>71</td>\n",
              "      <td>0</td>\n",
              "    </tr>\n",
              "  </tbody>\n",
              "</table>\n",
              "</div>\n",
              "      <button class=\"colab-df-convert\" onclick=\"convertToInteractive('df-ce10fa88-f15c-407d-8896-7943f40d133c')\"\n",
              "              title=\"Convert this dataframe to an interactive table.\"\n",
              "              style=\"display:none;\">\n",
              "        \n",
              "  <svg xmlns=\"http://www.w3.org/2000/svg\" height=\"24px\"viewBox=\"0 0 24 24\"\n",
              "       width=\"24px\">\n",
              "    <path d=\"M0 0h24v24H0V0z\" fill=\"none\"/>\n",
              "    <path d=\"M18.56 5.44l.94 2.06.94-2.06 2.06-.94-2.06-.94-.94-2.06-.94 2.06-2.06.94zm-11 1L8.5 8.5l.94-2.06 2.06-.94-2.06-.94L8.5 2.5l-.94 2.06-2.06.94zm10 10l.94 2.06.94-2.06 2.06-.94-2.06-.94-.94-2.06-.94 2.06-2.06.94z\"/><path d=\"M17.41 7.96l-1.37-1.37c-.4-.4-.92-.59-1.43-.59-.52 0-1.04.2-1.43.59L10.3 9.45l-7.72 7.72c-.78.78-.78 2.05 0 2.83L4 21.41c.39.39.9.59 1.41.59.51 0 1.02-.2 1.41-.59l7.78-7.78 2.81-2.81c.8-.78.8-2.07 0-2.86zM5.41 20L4 18.59l7.72-7.72 1.47 1.35L5.41 20z\"/>\n",
              "  </svg>\n",
              "      </button>\n",
              "      \n",
              "  <style>\n",
              "    .colab-df-container {\n",
              "      display:flex;\n",
              "      flex-wrap:wrap;\n",
              "      gap: 12px;\n",
              "    }\n",
              "\n",
              "    .colab-df-convert {\n",
              "      background-color: #E8F0FE;\n",
              "      border: none;\n",
              "      border-radius: 50%;\n",
              "      cursor: pointer;\n",
              "      display: none;\n",
              "      fill: #1967D2;\n",
              "      height: 32px;\n",
              "      padding: 0 0 0 0;\n",
              "      width: 32px;\n",
              "    }\n",
              "\n",
              "    .colab-df-convert:hover {\n",
              "      background-color: #E2EBFA;\n",
              "      box-shadow: 0px 1px 2px rgba(60, 64, 67, 0.3), 0px 1px 3px 1px rgba(60, 64, 67, 0.15);\n",
              "      fill: #174EA6;\n",
              "    }\n",
              "\n",
              "    [theme=dark] .colab-df-convert {\n",
              "      background-color: #3B4455;\n",
              "      fill: #D2E3FC;\n",
              "    }\n",
              "\n",
              "    [theme=dark] .colab-df-convert:hover {\n",
              "      background-color: #434B5C;\n",
              "      box-shadow: 0px 1px 3px 1px rgba(0, 0, 0, 0.15);\n",
              "      filter: drop-shadow(0px 1px 2px rgba(0, 0, 0, 0.3));\n",
              "      fill: #FFFFFF;\n",
              "    }\n",
              "  </style>\n",
              "\n",
              "      <script>\n",
              "        const buttonEl =\n",
              "          document.querySelector('#df-ce10fa88-f15c-407d-8896-7943f40d133c button.colab-df-convert');\n",
              "        buttonEl.style.display =\n",
              "          google.colab.kernel.accessAllowed ? 'block' : 'none';\n",
              "\n",
              "        async function convertToInteractive(key) {\n",
              "          const element = document.querySelector('#df-ce10fa88-f15c-407d-8896-7943f40d133c');\n",
              "          const dataTable =\n",
              "            await google.colab.kernel.invokeFunction('convertToInteractive',\n",
              "                                                     [key], {});\n",
              "          if (!dataTable) return;\n",
              "\n",
              "          const docLinkHtml = 'Like what you see? Visit the ' +\n",
              "            '<a target=\"_blank\" href=https://colab.research.google.com/notebooks/data_table.ipynb>data table notebook</a>'\n",
              "            + ' to learn more about interactive tables.';\n",
              "          element.innerHTML = '';\n",
              "          dataTable['output_type'] = 'display_data';\n",
              "          await google.colab.output.renderOutput(dataTable, element);\n",
              "          const docLink = document.createElement('div');\n",
              "          docLink.innerHTML = docLinkHtml;\n",
              "          element.appendChild(docLink);\n",
              "        }\n",
              "      </script>\n",
              "    </div>\n",
              "  </div>\n",
              "  "
            ]
          },
          "metadata": {},
          "execution_count": 33
        }
      ],
      "source": [
        "dataset.head()"
      ]
    },
    {
      "cell_type": "markdown",
      "metadata": {
        "id": "ojQOj_OdEpaM"
      },
      "source": [
        "# Visualisasi dan statistik dasar\n",
        "## Rata-rata dan popularitas\n",
        "Pertama, kami tertarik untuk mengetahui statistik dasar tentang informasi yang kami ekstrak, seperti rata-rata panjang setiap tweet, yang merupakan tweet dengan paling favorit, mana yang paling banyak di-retweet tweet, dll."
      ]
    },
    {
      "cell_type": "code",
      "execution_count": 34,
      "metadata": {
        "colab": {
          "base_uri": "https://localhost:8080/"
        },
        "id": "VgpxuexbEpaM",
        "outputId": "921eea20-0bba-4bc3-f25d-e2055881aa12"
      },
      "outputs": [
        {
          "output_type": "stream",
          "name": "stdout",
          "text": [
            "Jumlah rata-rata karakter di tweet: 86.32\n"
          ]
        }
      ],
      "source": [
        "# extract rata-rata:\n",
        "media = np.mean(dataset['len'])\n",
        "\n",
        "print(\"Jumlah rata-rata karakter di tweet: {}\".format(media))"
      ]
    },
    {
      "cell_type": "code",
      "execution_count": 35,
      "metadata": {
        "colab": {
          "base_uri": "https://localhost:8080/"
        },
        "id": "zYyUKvaKEpaM",
        "outputId": "4463d497-c834-48e3-c446-f31dde75c0ae"
      },
      "outputs": [
        {
          "output_type": "stream",
          "name": "stdout",
          "text": [
            "Tweet yang paling banyak disukai adalah: \n",
            "Seorang Ibu, jelang subuh, menengok kasur anaknya masih kosong. Perasaannya tak enak. Namun ia berpikir, anaknya ke… https://t.co/rGf9cNZm2c\n",
            "Jumlah suka: 49890\n",
            "140 Characters.\n",
            "\n"
          ]
        }
      ],
      "source": [
        "# Kami mengekstrak tweet dengan FAV paling banyak dan dengan RT terbanyak:\n",
        "\n",
        "fav_max = np.max(dataset['Likes'])\n",
        "rt_max  = np.max(dataset['RTs'])\n",
        "\n",
        "fav = dataset[dataset.Likes == fav_max].index[0]\n",
        "rt  = dataset[dataset.RTs == rt_max].index[0]\n",
        "\n",
        "# Max FAVs:\n",
        "print(\"Tweet yang paling banyak disukai adalah: \\n{}\".format(dataset['Tweets'][fav]))\n",
        "print(\"Jumlah suka: {}\".format(fav_max))\n",
        "print(\"{} Characters.\\n\".format(dataset['len'][fav]))\n"
      ]
    },
    {
      "cell_type": "code",
      "execution_count": 36,
      "metadata": {
        "colab": {
          "base_uri": "https://localhost:8080/"
        },
        "id": "WzSm_poOEpaM",
        "outputId": "5599f78d-ec2b-44e1-af22-36350b0ccf75"
      },
      "outputs": [
        {
          "output_type": "stream",
          "name": "stdout",
          "text": [
            "Tweet dengan retweet terbanyak adalah: \n",
            "RT @Husen_Jafar: Sebisa mungkin tahajud. Kalau belum bisa, upayakan tetap bangun lalu baca zikir &amp; salawat. Kalau masih gagal, niatkan aja…\n",
            "Jumlah retweet: 11134\n",
            "143 Characters.\n",
            "\n"
          ]
        }
      ],
      "source": [
        "# Max RTs:\n",
        "print(\"Tweet dengan retweet terbanyak adalah: \\n{}\".format(dataset['Tweets'][rt]))\n",
        "print(\"Jumlah retweet: {}\".format(rt_max))\n",
        "print(\"{} Characters.\\n\".format(dataset['len'][rt]))"
      ]
    },
    {
      "cell_type": "markdown",
      "metadata": {
        "id": "19WAN3tsEpaM"
      },
      "source": [
        "# Deret waktu\n",
        "\n",
        "Karena kita memiliki seluruh vektor tanggal pembuatan, kita dapat membuat deret waktu sehubungan dengan panjang tweet, favorit, dan retweet."
      ]
    },
    {
      "cell_type": "code",
      "execution_count": 37,
      "metadata": {
        "id": "7JdiVf7DEpaN"
      },
      "outputs": [],
      "source": [
        "tlen = pd.Series(data=dataset['len'].values, index=dataset['Created'])\n",
        "tfav = pd.Series(data=dataset['Likes'].values, index=dataset['Created'])\n",
        "tret = pd.Series(data=dataset['RTs'].values, index=dataset['Created'])"
      ]
    },
    {
      "cell_type": "code",
      "execution_count": 38,
      "metadata": {
        "colab": {
          "base_uri": "https://localhost:8080/",
          "height": 285
        },
        "id": "EMtFShd7EpaN",
        "outputId": "399601dd-3ffb-4493-da15-9dcc9e2d2b72"
      },
      "outputs": [
        {
          "output_type": "display_data",
          "data": {
            "text/plain": [
              "<Figure size 1152x288 with 1 Axes>"
            ],
            "image/png": "[encoded data removed]"
          },
          "metadata": {
            "needs_background": "light"
          }
        }
      ],
      "source": [
        "tlen.plot(figsize=(16,4), color='r');"
      ]
    },
    {
      "cell_type": "code",
      "execution_count": 39,
      "metadata": {
        "colab": {
          "base_uri": "https://localhost:8080/",
          "height": 285
        },
        "id": "ypYOeiy5EpaN",
        "outputId": "7ea54a63-7895-49b4-f5d4-9550d8c5bb9c"
      },
      "outputs": [
        {
          "output_type": "display_data",
          "data": {
            "text/plain": [
              "<Figure size 1152x288 with 1 Axes>"
            ],
            "image/png": "[encoded data removed]"
          },
          "metadata": {
            "needs_background": "light"
          }
        }
      ],
      "source": [
        "tfav.plot(figsize=(16,4), label=\"Likes\", legend=True)\n",
        "tret.plot(figsize=(16,4), label=\"Retweets\", legend=True);"
      ]
    },
    {
      "cell_type": "markdown",
      "metadata": {
        "id": "HsIhwQBoEpaN"
      },
      "source": [
        "# Bagan pai perangkat\n",
        "Kami membersihkan sumber pembuatan tweet untuk membuat diagram lingkaran:"
      ]
    },
    {
      "cell_type": "code",
      "execution_count": 40,
      "metadata": {
        "colab": {
          "base_uri": "https://localhost:8080/"
        },
        "id": "HHXe-6h_EpaN",
        "outputId": "12758bbf-8fc3-4890-8d8c-b21ae7c20cfc"
      },
      "outputs": [
        {
          "output_type": "stream",
          "name": "stdout",
          "text": [
            "Sumber pembuatan konten:\n",
            "* Twitter for iPhone\n"
          ]
        }
      ],
      "source": [
        "sources = []\n",
        "for source in dataset['Source']:\n",
        "    if source not in sources:\n",
        "        sources.append(source)\n",
        "\n",
        "# pembuatan:\n",
        "print(\"Sumber pembuatan konten:\")\n",
        "for source in sources:\n",
        "    print(\"* {}\".format(source))"
      ]
    },
    {
      "cell_type": "markdown",
      "metadata": {
        "id": "_dNFAxFjEpaO"
      },
      "source": [
        "## Kami menghitung perangkat dan membuat diagram lingkaran:"
      ]
    },
    {
      "cell_type": "code",
      "execution_count": 25,
      "metadata": {
        "colab": {
          "base_uri": "https://localhost:8080/",
          "height": 357
        },
        "id": "rKAFn40NEpaO",
        "outputId": "319fef11-6cfb-4f6a-c053-ed8bbcd8f8a7"
      },
      "outputs": [
        {
          "output_type": "display_data",
          "data": {
            "text/plain": [
              "<Figure size 432x432 with 1 Axes>"
            ],
            "image/png": "[encoded data removed]"
          },
          "metadata": {}
        }
      ],
      "source": [
        "percent = np.zeros(len(sources))\n",
        "\n",
        "for source in dataset['Source']:\n",
        "    for index in range(len(sources)):\n",
        "        if source == sources[index]:\n",
        "            percent[index] += 1\n",
        "            pass\n",
        "\n",
        "percent /= 100\n",
        "\n",
        "# Pie chart:\n",
        "pie_chart = pd.Series(percent, index=sources, name='Sources')\n",
        "pie_chart.plot.pie(fontsize=11, autopct='%.2f', figsize=(6, 6));"
      ]
    },
    {
      "cell_type": "markdown",
      "metadata": {
        "id": "69Mf0nhZEpaP"
      },
      "source": [
        "# simpan csv"
      ]
    },
    {
      "cell_type": "code",
      "execution_count": 27,
      "metadata": {
        "id": "XeKKor1OEpaP"
      },
      "outputs": [],
      "source": [
        "dataset.to_csv('dataset_user.csv',sep=';')"
      ]
    }
  ],
  "metadata": {
    "kernelspec": {
      "display_name": "Python 3 (ipykernel)",
      "language": "python",
      "name": "python3"
    },
    "language_info": {
      "codemirror_mode": {
        "name": "ipython",
        "version": 3
      },
      "file_extension": ".py",
      "mimetype": "text/x-python",
      "name": "python",
      "nbconvert_exporter": "python",
      "pygments_lexer": "ipython3",
      "version": "3.9.5"
    },
    "colab": {
      "provenance": [],
      "collapsed_sections": [],
      "include_colab_link": true
    }
  },
  "nbformat": 4,
  "nbformat_minor": 0
}